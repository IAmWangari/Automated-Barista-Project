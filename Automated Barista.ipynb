{
 "cells": [
  {
   "cell_type": "markdown",
   "metadata": {},
   "source": [
    " Developing An Automated Barista"
   ]
  },
  {
   "cell_type": "markdown",
   "metadata": {},
   "source": [
    " Let's start a coffee shop. \n",
    "\n",
    " Our coffee is called More Coffee because it is so good they keep coming for more!\n"
   ]
  },
  {
   "cell_type": "code",
   "execution_count": null,
   "metadata": {},
   "outputs": [],
   "source": [
    "# We'll start with a heartwarming greeting!\n",
    "\n",
    "print(\"Hello, welcome to More Coffee\")\n",
    "\n",
    "name = input(\"What is your name?\" )\n",
    "\n",
    "print(\"Hello \" + name + \" ,thank you so much for coming in today. \")\n",
    "\n",
    "# Proceed to generate available menu for the day\n",
    "\n",
    "menu = \"Black coffee , Cappucino , Latte , Espresso\"\n",
    "\n",
    "print(name + \" , what would you like from our menu today? \" + \"Here is what we are serving : \" + menu )\n",
    "\n",
    "order = input()\n",
    "\n",
    "# Process the result\n",
    "\n",
    "print(\"Sounds good \" + name + \" , we'll have that \" + order + \" ready for you in a moment. \")\n"
   ]
  },
  {
   "cell_type": "markdown",
   "metadata": {},
   "source": [
    " \n",
    " Now that was easy right?\n",
    "  \n",
    " We just used the input function to generate the order menu for our coffee customers and that was it.\n"
   ]
  },
  {
   "cell_type": "markdown",
   "metadata": {},
   "source": [
    "\n",
    " Now let's try and make it a bit more complex by including the price and quantity feature as well\n",
    "\n",
    " For starters we'll assume we have one constant price for each coffee that is, Ksh. 120\n"
   ]
  },
  {
   "cell_type": "code",
   "execution_count": null,
   "metadata": {},
   "outputs": [],
   "source": [
    "# We'll start with a heartwarming greeting!\n",
    "\n",
    "print(\"Hello, welcome to More Coffee\")\n",
    "\n",
    "name = input(\"What is your name?\" )\n",
    "\n",
    "print(\"Hello \" + name + \" ,thank you so much for coming in today. \")\n",
    "\n",
    "# Proceed to generate available menu for the day\n",
    "\n",
    "menu = \"Black coffee , Cappucino , Latte , Espresso\"\n",
    "\n",
    "print(name + \" , what would you like from our menu today? \" + \"Here is what we are serving : \" + menu )\n",
    "\n",
    "order = input()\n",
    "\n",
    "# Link the price for the order\n",
    "\n",
    "price = 120\n",
    "\n",
    "print(\"How many orders of \" + order + \" would you like to have? \")\n",
    "\n",
    "# Link the quantity for the order\n",
    "\n",
    "\n",
    "quantity = input()\n",
    "\n",
    "# Determine the total cost of the order\n",
    "\n",
    "total = price * int(quantity)\n",
    "print(total)\n",
    "\n",
    "print(\"Sounds good \" + name + \" , we'll have \" + quantity + \" \" + order + \" ready for you in a moment. \")\n",
    "\n",
    "print(\"Thank you. \" + \"Your total is : Ksh. \" + str(total))\n",
    "\n"
   ]
  },
  {
   "cell_type": "markdown",
   "metadata": {},
   "source": [
    "We do know that in a regular coffee shop, not all coffee is the same price and we'd like to retain our customers\n",
    "\n",
    "We need to set a range for our various coffee as compared to the constant price we have above"
   ]
  },
  {
   "cell_type": "code",
   "execution_count": null,
   "metadata": {},
   "outputs": [],
   "source": [
    "# We'll start with a heartwarming greeting!\n",
    "\n",
    "print(\"Hello, welcome to More Coffee\")\n",
    "\n",
    "name = input(\"What is your name?\" )\n",
    "\n",
    "print(\"Hello \" + name + \" ,thank you so much for coming in today. \")\n",
    "\n",
    "# Proceed to generate available menu for the day\n",
    "\n",
    "menu = \"Black coffee , Cappucino , Latte , Espresso\"\n",
    "\n",
    "print(name + \" , what would you like from our menu today? \" + \"Here is what we are serving : \" + menu )\n",
    "\n",
    "order = input()\n",
    "\n",
    "# Set the coffee price\n",
    "\n",
    "if order == \"Black coffee\" :\n",
    "    price = 90\n",
    "\n",
    "elif order == \"Cappucino\" :\n",
    "    price = 120\n",
    "\n",
    "elif order == \"Latte\" :\n",
    "    price = 120\n",
    "\n",
    "elif order == \"Espresso\" :\n",
    "    price = 250\n",
    "\n",
    "else  :\n",
    "    print(\"Sorry, we don't have that here.\")\n",
    "    exit()\n",
    "\n",
    "print(\"How many orders of \" + order + \" would you like to have? \")\n",
    "\n",
    "# Link the quantity for the order\n",
    "\n",
    "\n",
    "quantity = input()\n",
    "\n",
    "# Determine the total cost of the order\n",
    "\n",
    "total = price * int(quantity)\n",
    "print(total)\n",
    "\n",
    "print(\"Sounds good \" + name + \" , we'll have \" + quantity + \" \" + order + \" ready for you in a moment. \")\n",
    "\n",
    "print(\"Thank you. \" + \"Your total is : Ksh. \" + str(total))\n"
   ]
  }
 ],
 "metadata": {
  "kernelspec": {
   "display_name": "Python 3",
   "language": "python",
   "name": "python3"
  },
  "language_info": {
   "codemirror_mode": {
    "name": "ipython",
    "version": 3
   },
   "file_extension": ".py",
   "mimetype": "text/x-python",
   "name": "python",
   "nbconvert_exporter": "python",
   "pygments_lexer": "ipython3",
   "version": "3.10.9"
  }
 },
 "nbformat": 4,
 "nbformat_minor": 2
}
